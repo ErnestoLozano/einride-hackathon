{
 "cells": [
  {
   "cell_type": "code",
   "execution_count": 1,
   "metadata": {},
   "outputs": [],
   "source": [
    "import websocket\n",
    "import _thread\n",
    "import time\n",
    "import cv2\n",
    "import matplotlib.pyplot as plt\n",
    "\n",
    "import random\n",
    "import numpy as np\n",
    "\n",
    "from simple_pid import PID"
   ]
  },
  {
   "cell_type": "markdown",
   "metadata": {},
   "source": [
    "*INPUTS*\n",
    "\n",
    "- Distance to center point of the lane\n",
    "\n",
    "*OUTPUTS*\n",
    "\n",
    "- Steering angle\n",
    "- Throttle = const - coeff * abs(steering angle)\n"
   ]
  },
  {
   "cell_type": "code",
   "execution_count": 2,
   "metadata": {},
   "outputs": [],
   "source": [
    "def steering_angle_f(error_distance, center_position, tau_p = 1, tau_i = 0.1, tau_d = 0.05):\n",
    "    \n",
    "    #diff_cte = cte - prev_cte\n",
    "    #prev_cte = cte\n",
    "    #int_cte += cte\n",
    "    #steering = -tau_p * cte - tau_d * diff_cte - tau_i * int_cte\n",
    "    \n",
    "    pid = PID(tau_p, tau_i, tau_d, setpoint = center_position)\n",
    "    \n",
    "    steering = pid(error_distance)\n",
    "    \n",
    "    if steering > max_steering_angle:\n",
    "        steering = max_steering_angle\n",
    "    if steering < -max_steering_angle:\n",
    "        steering = -max_steering_angle\n",
    "                \n",
    "    return steering"
   ]
  },
  {
   "cell_type": "code",
   "execution_count": 3,
   "metadata": {},
   "outputs": [],
   "source": [
    "def throttle_f(angle, const = 0.25, coeff = 0.1, max_throttle = 0.5):\n",
    "    \n",
    "    throttle = const - coeff * abs(angle)\n",
    "    \n",
    "    if throttle > max_throttle:\n",
    "        throttle = max_throttle\n",
    "    if throttle < -max_throttle:\n",
    "        throttle = -max_throttle\n",
    "    \n",
    "    \n",
    "    return throttle"
   ]
  },
  {
   "cell_type": "code",
   "execution_count": 4,
   "metadata": {},
   "outputs": [],
   "source": [
    "def move(distance_to_center, center_position, max_steering_angle, max_throttle, throttle_const, throttle_coeff, tau_p, tau_d, tau_i):\n",
    "    \"\"\"\n",
    "    steering = front wheel steering angle, limited by max_steering_angle\n",
    "    throttle = based on steering angle\n",
    "    \"\"\"\n",
    "    \n",
    "    steer = steering_angle_f(error_distance = distance_to_center, center_position = center_position, tau_p = 1, tau_d = 0.1, tau_i = 0.05)\n",
    "    throttle = throttle_f(angle = steer, const = throttle_const, coeff = throttle_coeff, max_throttle = max_throttle)\n",
    "    \n",
    "    return steer, throttle"
   ]
  },
  {
   "cell_type": "code",
   "execution_count": null,
   "metadata": {},
   "outputs": [],
   "source": []
  },
  {
   "cell_type": "code",
   "execution_count": 6,
   "metadata": {},
   "outputs": [],
   "source": [
    "# Testing\n",
    "# Init \n",
    "\n",
    "center_position = 0.75\n",
    "distance_to_center = 0.25\n",
    "\n",
    "throttle_const = 0.25\n",
    "throttle_coeff = 0.1\n",
    "\n",
    "max_steering_angle = 1\n",
    "max_throttle = 0.5\n",
    "\n",
    "#PID values\n",
    "\n",
    "tau_p = 1\n",
    "tau_i = 0.1\n",
    "tau_d = 0.05"
   ]
  },
  {
   "cell_type": "code",
   "execution_count": 7,
   "metadata": {},
   "outputs": [],
   "source": [
    "steering_angle, throttle = move(distance_to_center, center_position, max_steering_angle, max_throttle, throttle_const, throttle_coeff, tau_p, tau_d, tau_i)"
   ]
  },
  {
   "cell_type": "code",
   "execution_count": 8,
   "metadata": {},
   "outputs": [
    {
     "name": "stdout",
     "output_type": "stream",
     "text": [
      "0.5\n",
      "0.2\n"
     ]
    }
   ],
   "source": [
    "print(steering_angle)\n",
    "print(throttle)"
   ]
  },
  {
   "cell_type": "code",
   "execution_count": null,
   "metadata": {},
   "outputs": [],
   "source": []
  }
 ],
 "metadata": {
  "kernelspec": {
   "display_name": "Python 3",
   "language": "python",
   "name": "python3"
  },
  "language_info": {
   "codemirror_mode": {
    "name": "ipython",
    "version": 3
   },
   "file_extension": ".py",
   "mimetype": "text/x-python",
   "name": "python",
   "nbconvert_exporter": "python",
   "pygments_lexer": "ipython3",
   "version": "3.8.5"
  }
 },
 "nbformat": 4,
 "nbformat_minor": 4
}
