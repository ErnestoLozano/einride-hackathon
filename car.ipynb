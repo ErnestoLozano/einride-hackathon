{
 "cells": [
  {
   "cell_type": "code",
   "execution_count": 1,
   "metadata": {},
   "outputs": [],
   "source": [
    "import websocket\n",
    "import _thread\n",
    "import time\n",
    "import cv2"
   ]
  },
  {
   "cell_type": "code",
   "execution_count": 2,
   "metadata": {},
   "outputs": [],
   "source": [
    "host = \"donkeycar\"\n",
    "port = 8887\n",
    "\n",
    "socket_address = f\"ws://{host}:{port}/wsDrive\"\n",
    "video_address = f\"http://{host}:{port}/video\""
   ]
  },
  {
   "cell_type": "code",
   "execution_count": null,
   "metadata": {},
   "outputs": [],
   "source": [
    "def on_message(ws, message):\n",
    "    print(message)"
   ]
  },
  {
   "cell_type": "code",
   "execution_count": null,
   "metadata": {},
   "outputs": [],
   "source": [
    "def on_error(ws, error):\n",
    "    print(error)"
   ]
  },
  {
   "cell_type": "code",
   "execution_count": null,
   "metadata": {},
   "outputs": [],
   "source": [
    "def on_open(ws):\n",
    "    def run(*args):\n",
    "        # your car logic here\n",
    "\n",
    "        cap = cv2.VideoCapture(video_address)\n",
    "\n",
    "        ret, frame = cap.read()\n",
    "        height = frame.shape[0]\n",
    "        width = frame.shape[1]\n",
    "\n",
    "        while True:\n",
    "            ret, frame = cap.read()\n",
    "            # do something based on the frame\n",
    "            angle = 0.0\n",
    "            throttle = 0.2\n",
    "\n",
    "            message = f\"{{\\\"angle\\\":{angle},\\\"throttle\\\":{throttle},\\\"drive_mode\\\":\\\"user\\\",\\\"recording\\\":false}}\"\n",
    "            ws.send(message)\n",
    "            print(message)\n",
    "\n",
    "    _thread.start_new_thread(run, ())\n"
   ]
  },
  {
   "cell_type": "code",
   "execution_count": null,
   "metadata": {},
   "outputs": [],
   "source": [
    "if __name__ == \"__main__\":\n",
    "    websocket.enableTrace(True)\n",
    "    ws = websocket.WebSocketApp(socket_address,\n",
    "                                on_open=on_open,\n",
    "                                on_message=on_message,\n",
    "                                on_error=on_error,\n",
    "                                on_close=on_close)\n",
    "\n",
    "    ws.run_forever()"
   ]
  },
  {
   "cell_type": "code",
   "execution_count": null,
   "metadata": {},
   "outputs": [],
   "source": []
  },
  {
   "cell_type": "code",
   "execution_count": null,
   "metadata": {},
   "outputs": [],
   "source": []
  }
 ],
 "metadata": {
  "kernelspec": {
   "display_name": "Python 3",
   "language": "python",
   "name": "python3"
  },
  "language_info": {
   "codemirror_mode": {
    "name": "ipython",
    "version": 3
   },
   "file_extension": ".py",
   "mimetype": "text/x-python",
   "name": "python",
   "nbconvert_exporter": "python",
   "pygments_lexer": "ipython3",
   "version": "3.8.5"
  }
 },
 "nbformat": 4,
 "nbformat_minor": 4
}
